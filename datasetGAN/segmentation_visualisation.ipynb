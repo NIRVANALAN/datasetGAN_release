{
 "cells": [
  {
   "cell_type": "code",
   "execution_count": 1,
   "id": "balanced-agenda",
   "metadata": {},
   "outputs": [],
   "source": [
    "\n",
    "\n",
    "%load_ext autoreload\n",
    "%autoreload 2\n",
    "\n",
    "import sys\n",
    "import cv2\n",
    "sys.path.append('../')\n",
    "import os\n",
    "os.environ[\"CUDA_DEVICE_ORDER\"]=\"PCI_BUS_ID\"   # see issue #152\n",
    "import argparse\n",
    "import gc\n",
    "import os\n",
    "import torch\n",
    "import torchvision\n",
    "from torch.utils.data import Dataset, DataLoader\n",
    "import glob\n",
    "from util.data_util import *\n",
    "from util.utils import process_image, colorize_mask\n",
    "import json\n",
    "from train_deeplab import ImageLabelDataset, ImageDataset\n",
    "import scipy.misc\n",
    "from pathlib import Path\n",
    "import imageio\n",
    "\n",
    "import matplotlib.pyplot as plt\n"
   ]
  },
  {
   "cell_type": "code",
   "execution_count": 2,
   "id": "outstanding-equity",
   "metadata": {},
   "outputs": [],
   "source": [
    "\n",
    "from torch.utils.data import Dataset, DataLoader\n",
    "import glob\n",
    "from torchvision import transforms\n",
    "from PIL import Image\n",
    "from util.data_util import *\n",
    "import json\n",
    "import pickle\n",
    "\n",
    "from pathlib import Path\n",
    "\n",
    "from collections import defaultdict\n",
    "import ipdb"
   ]
  },
  {
   "cell_type": "code",
   "execution_count": 3,
   "id": "expensive-november",
   "metadata": {},
   "outputs": [
    {
     "name": "stdout",
     "output_type": "stream",
     "text": [
      "/mnt/lustre/yslan/Repo/3D/generative/datasetGAN_release/datasetGAN\r\n"
     ]
    }
   ],
   "source": [
    "!pwd"
   ]
  },
  {
   "cell_type": "code",
   "execution_count": 4,
   "id": "future-herald",
   "metadata": {},
   "outputs": [],
   "source": [
    "def load_cfg(args):\n",
    "    if args['category'] == 'car':\n",
    "        from util.data_util import car_20_palette as palette\n",
    "        if args['testing_data_number_class'] == 12:\n",
    "            from util.data_util import car_12_class as class_name\n",
    "        elif args['testing_data_number_class'] == 20:\n",
    "            from util.data_util import car_20_class as class_name\n",
    "    elif args['category'] == 'face':\n",
    "        from util.data_util import face_palette as palette\n",
    "        from util.data_util import face_class as class_name\n",
    "\n",
    "    elif args['category'] == 'bedroom':\n",
    "        from util.data_util import bedroom_palette as palette\n",
    "    elif args['category'] == 'cat':\n",
    "        from util.data_util import cat_palette as palette\n",
    "        class_name=None\n",
    "        \n",
    "    print(args['category'])\n",
    "        \n",
    "    return class_name, palette\n",
    "\n",
    "\n",
    "import ipdb\n",
    "\n",
    "def inference(ckpt, args, save=True, blur=True, ksize=31, std=33, class_name_to_ignore=None):\n",
    "\n",
    "    class_name, palette = load_cfg(args)\n",
    "    ids = range(args['testing_data_number_class'])\n",
    "    \n",
    "#     ids_to_ignore = [class_name.index(class_to_ignore) for class_to_ignore in class_name_to_ignore]\n",
    "\n",
    "    data_all = glob.glob(args['testing_path'] + \"**/[0-9].png\", recursive=True) # ?\n",
    "#     data_all = glob.glob(args['testing_path'] + \"**/*.jpg\", recursive=True) # ?\n",
    "    \n",
    "    \n",
    "#     ipdb.set_trace()\n",
    "#     data_all = [data for data in data_all if 'seg' not in data]\n",
    "    \n",
    "#     print(data_all)\n",
    "\n",
    "    resnet_transform = torchvision.transforms.Normalize(\n",
    "        mean=[0.485, 0.456, 0.406],\n",
    "        std=[0.229, 0.224, 0.225])\n",
    "    \n",
    "    classifier = torchvision.models.segmentation.deeplabv3_resnet101(pretrained=False, progress=False,\n",
    "                                                                     num_classes=args['testing_data_number_class'], aux_loss=None)\n",
    "    checkpoint = torch.load(ckpt)\n",
    "    classifier.load_state_dict(checkpoint['model_state_dict'])\n",
    "    classifier.cuda()\n",
    "    classifier.eval()\n",
    "\n",
    "    cross_mIOU = []\n",
    "\n",
    "    val_data = ImageDataset(data_all, img_size=(args['deeplab_res'], args['deeplab_res']))\n",
    "    val_data = DataLoader(val_data, batch_size=1, shuffle=False, num_workers=0)\n",
    "\n",
    "    y_preds = []\n",
    "    fg_masks = []\n",
    "    colorize_preds = [] \n",
    "    \n",
    "    return_val = defaultdict(dict)\n",
    "    with torch.no_grad():\n",
    "        for _, da, in enumerate(val_data):\n",
    "            img, img_path = da\n",
    "#             print(img_path)\n",
    "            img_path = Path(img_path[0])\n",
    "            \n",
    "            if img.size(1) == 4:\n",
    "                img = img[:, :-1, :, :]\n",
    "            img = img.cuda()\n",
    "            input_img_tensor = []\n",
    "            for b in range(img.size(0)):\n",
    "                input_img_tensor.append(resnet_transform(img[b]))\n",
    "            input_img_tensor = torch.stack(input_img_tensor)\n",
    "\n",
    "            y_pred = classifier(input_img_tensor)['out']\n",
    "            y_pred = torch.log_softmax(y_pred, dim=1)\n",
    "            _, y_pred = torch.max(y_pred, dim=1)\n",
    "            y_pred = y_pred.cpu().detach().numpy()\n",
    "            \n",
    "            colorize_pred = colorize_mask(y_pred[0], palette)\n",
    "            \n",
    "            y_preds.append(y_pred)\n",
    "            colorize_preds.append(colorize_pred)\n",
    "            \n",
    "#             return_val[instance_id] = {}\n",
    "            \n",
    "            \n",
    "            if save:\n",
    "                img_path_root, img_name = img_path.parents[0], img_path.name\n",
    "                instance_id = img_path_root.name\n",
    "                img_name = img_name[:-4] # angle id\n",
    "                \n",
    "                seg_path = img_path_root / (img_name+'_seg.npy')\n",
    "                seg_img_path = img_path_root / (img_name+'_seg.png')\n",
    "                fg_path = img_path_root / (img_name+'_fg.npy')\n",
    "                bg_path = img_path_root / (img_name+'_bg.npy')\n",
    "                \n",
    "                return_val[instance_id][img_name] = {}\n",
    "                \n",
    "                np.save(seg_path, y_pred)\n",
    "                plt.imsave(seg_img_path, colorize_pred)\n",
    "                \n",
    "                # fg mask, without hair and BG\n",
    "                fg_mask = np.ones_like(y_pred)\n",
    "#                 for idx in ids_to_ignore:\n",
    "#                     fg_mask -= (y_pred==idx) # ?\n",
    "\n",
    "                fg_mask = fg_mask[0].astype(np.uint8) # ?\n",
    "                return_val[instance_id][img_name]['ori_mask'] = fg_mask\n",
    "                bg_mask = 1 - fg_mask\n",
    "                \n",
    "              \n",
    "                if blur:\n",
    "#                     fg_mask = cv2.blur(fg_mask,(10,10))\n",
    "#                     fg_mask = fg_mask * 255\n",
    "                    fg_mask = cv2.GaussianBlur(fg_mask * 255, (ksize, ksize), sigmaX=std) / 255 # GaussianBlur only supports uint depth\n",
    "#                     print(ksize, std)\n",
    "#                     bg_mask = cv2.GaussianBlur(bg_mask, (ksize, ksize), sigmaX=std)\n",
    "    \n",
    "                    plt.imsave(img_path_root / (img_name + '_fg.png'), fg_mask)\n",
    "                    plt.imsave(img_path_root / (img_name + '_bg.png'), 1-fg_mask)\n",
    "            \n",
    "                    return_val[instance_id][img_name]['blur_mask'] = fg_mask\n",
    "#                     return_val[instance_id][img_name]['blur_bgmask'] = 1-fg_mask\n",
    "\n",
    "#                 np.save(fg_path, y_pred * fg_mask)\n",
    "                np.save(fg_path, fg_mask)\n",
    "                np.save(bg_path, 1-fg_mask)\n",
    "                fg_masks.append(fg_mask)\n",
    "                \n",
    "\n",
    "        return y_preds, colorize_preds, palette, fg_masks, return_val, class_name # GUI FAN"
   ]
  },
  {
   "cell_type": "code",
   "execution_count": 20,
   "id": "royal-presentation",
   "metadata": {},
   "outputs": [
    {
     "name": "stdout",
     "output_type": "stream",
     "text": [
      "face\n"
     ]
    }
   ],
   "source": [
    "from dotmap import DotMap\n",
    "# try cats\n",
    "\n",
    "ckpt='model_dir/face_34/deeplab_class_34_checkpoint_0_filter_out_0.000000/deeplab_epoch_17.pth'\n",
    "exp='experiments/face_34.json'\n",
    "\n",
    "# ckpt='model_dir/cat_16/deeplab_class_16_checkpoint_0_filter_out_0.000000/deeplab_epoch_19.pth'\n",
    "# exp='experiments/cat_16.json'\n",
    "\n",
    "# save_base_dir=Path('/mnt/lustre/yslan/Repo/3D/correspondence/pigan_densecorr/vis/cat_seg')\n",
    "# load_img_base = '/mnt/lustre/yslan/Repo/3D/correspondence/pigan_densecorr/vis/3d_corr/'\n",
    "\n",
    "# img_name = 'img_0_1.5707963267948966_.png'\n",
    "img_name = 'img_0_1.5707963267948966_.png'\n",
    "\n",
    "args=DotMap(\n",
    "{\n",
    "    'ckpt': ckpt,\n",
    "    'exp': exp,\n",
    "    \"deeplab_res\":  512, # why matter?\n",
    "    'testing_path': '/mnt/lustre/yslan/Repo/3D/correspondence/pigan_densecorr/imgs/newmodel/z_inv_instance_lib/'    \n",
    "})\n",
    "\n",
    "opts = json.load(open(args.exp))\n",
    "opts.update(**args)\n",
    "\n",
    "class_name, palette = load_cfg(opts)"
   ]
  },
  {
   "cell_type": "code",
   "execution_count": 21,
   "id": "coordinate-cambodia",
   "metadata": {},
   "outputs": [],
   "source": [
    "class_to_ignore = [\n",
    "    'background',\n",
    "    'head***hair',\n",
    "    'head***hair***sideburns',\n",
    "    'head***mouth***teeth',\n",
    "    'head***ear', \n",
    "    'head***ear***helix',\n",
    "    'head***ear***lobule'   \n",
    "]\n",
    "\n",
    "hair = ['head***hair', 'head***hair***sideburns']"
   ]
  },
  {
   "cell_type": "code",
   "execution_count": 22,
   "id": "considerable-taste",
   "metadata": {
    "scrolled": true
   },
   "outputs": [
    {
     "name": "stdout",
     "output_type": "stream",
     "text": [
      "face\n"
     ]
    }
   ],
   "source": [
    "y_preds, colorize_preds, palette, fg_masks, return_val, class_name = inference(args.ckpt, opts, save=True, blur=False, \n",
    "                                                                   ksize=11, \n",
    "                                                                   std=0,\n",
    "                                                                   class_name_to_ignore=class_to_ignore)"
   ]
  },
  {
   "cell_type": "code",
   "execution_count": 24,
   "id": "departmental-richards",
   "metadata": {
    "scrolled": true
   },
   "outputs": [
    {
     "data": {
      "text/plain": [
       "['/mnt/lustre/yslan/Repo/3D/correspondence/pigan_densecorr/imgs/newmodel/z_inv_instance_lib/000264/4.png',\n",
       " '/mnt/lustre/yslan/Repo/3D/correspondence/pigan_densecorr/imgs/newmodel/z_inv_instance_lib/000264/6.png',\n",
       " '/mnt/lustre/yslan/Repo/3D/correspondence/pigan_densecorr/imgs/newmodel/z_inv_instance_lib/000264/1.png',\n",
       " '/mnt/lustre/yslan/Repo/3D/correspondence/pigan_densecorr/imgs/newmodel/z_inv_instance_lib/000264/0.png',\n",
       " '/mnt/lustre/yslan/Repo/3D/correspondence/pigan_densecorr/imgs/newmodel/z_inv_instance_lib/000264/3.png',\n",
       " '/mnt/lustre/yslan/Repo/3D/correspondence/pigan_densecorr/imgs/newmodel/z_inv_instance_lib/000264/2.png',\n",
       " '/mnt/lustre/yslan/Repo/3D/correspondence/pigan_densecorr/imgs/newmodel/z_inv_instance_lib/000264/5.png',\n",
       " '/mnt/lustre/yslan/Repo/3D/correspondence/pigan_densecorr/imgs/newmodel/z_inv_instance_lib/000813/4.png',\n",
       " '/mnt/lustre/yslan/Repo/3D/correspondence/pigan_densecorr/imgs/newmodel/z_inv_instance_lib/000813/6.png',\n",
       " '/mnt/lustre/yslan/Repo/3D/correspondence/pigan_densecorr/imgs/newmodel/z_inv_instance_lib/000813/1.png',\n",
       " '/mnt/lustre/yslan/Repo/3D/correspondence/pigan_densecorr/imgs/newmodel/z_inv_instance_lib/000813/0.png',\n",
       " '/mnt/lustre/yslan/Repo/3D/correspondence/pigan_densecorr/imgs/newmodel/z_inv_instance_lib/000813/3.png',\n",
       " '/mnt/lustre/yslan/Repo/3D/correspondence/pigan_densecorr/imgs/newmodel/z_inv_instance_lib/000813/2.png',\n",
       " '/mnt/lustre/yslan/Repo/3D/correspondence/pigan_densecorr/imgs/newmodel/z_inv_instance_lib/000813/5.png',\n",
       " '/mnt/lustre/yslan/Repo/3D/correspondence/pigan_densecorr/imgs/newmodel/z_inv_instance_lib/000055/4.png',\n",
       " '/mnt/lustre/yslan/Repo/3D/correspondence/pigan_densecorr/imgs/newmodel/z_inv_instance_lib/000055/6.png',\n",
       " '/mnt/lustre/yslan/Repo/3D/correspondence/pigan_densecorr/imgs/newmodel/z_inv_instance_lib/000055/1.png',\n",
       " '/mnt/lustre/yslan/Repo/3D/correspondence/pigan_densecorr/imgs/newmodel/z_inv_instance_lib/000055/0.png',\n",
       " '/mnt/lustre/yslan/Repo/3D/correspondence/pigan_densecorr/imgs/newmodel/z_inv_instance_lib/000055/3.png',\n",
       " '/mnt/lustre/yslan/Repo/3D/correspondence/pigan_densecorr/imgs/newmodel/z_inv_instance_lib/000055/2.png',\n",
       " '/mnt/lustre/yslan/Repo/3D/correspondence/pigan_densecorr/imgs/newmodel/z_inv_instance_lib/000055/5.png',\n",
       " '/mnt/lustre/yslan/Repo/3D/correspondence/pigan_densecorr/imgs/newmodel/z_inv_instance_lib/000153/4.png',\n",
       " '/mnt/lustre/yslan/Repo/3D/correspondence/pigan_densecorr/imgs/newmodel/z_inv_instance_lib/000153/6.png',\n",
       " '/mnt/lustre/yslan/Repo/3D/correspondence/pigan_densecorr/imgs/newmodel/z_inv_instance_lib/000153/1.png',\n",
       " '/mnt/lustre/yslan/Repo/3D/correspondence/pigan_densecorr/imgs/newmodel/z_inv_instance_lib/000153/0.png',\n",
       " '/mnt/lustre/yslan/Repo/3D/correspondence/pigan_densecorr/imgs/newmodel/z_inv_instance_lib/000153/3.png',\n",
       " '/mnt/lustre/yslan/Repo/3D/correspondence/pigan_densecorr/imgs/newmodel/z_inv_instance_lib/000153/2.png',\n",
       " '/mnt/lustre/yslan/Repo/3D/correspondence/pigan_densecorr/imgs/newmodel/z_inv_instance_lib/000153/5.png',\n",
       " '/mnt/lustre/yslan/Repo/3D/correspondence/pigan_densecorr/imgs/newmodel/z_inv_instance_lib/000016/4.png',\n",
       " '/mnt/lustre/yslan/Repo/3D/correspondence/pigan_densecorr/imgs/newmodel/z_inv_instance_lib/000016/6.png',\n",
       " '/mnt/lustre/yslan/Repo/3D/correspondence/pigan_densecorr/imgs/newmodel/z_inv_instance_lib/000016/1.png',\n",
       " '/mnt/lustre/yslan/Repo/3D/correspondence/pigan_densecorr/imgs/newmodel/z_inv_instance_lib/000016/0.png',\n",
       " '/mnt/lustre/yslan/Repo/3D/correspondence/pigan_densecorr/imgs/newmodel/z_inv_instance_lib/000016/3.png',\n",
       " '/mnt/lustre/yslan/Repo/3D/correspondence/pigan_densecorr/imgs/newmodel/z_inv_instance_lib/000016/2.png',\n",
       " '/mnt/lustre/yslan/Repo/3D/correspondence/pigan_densecorr/imgs/newmodel/z_inv_instance_lib/000016/5.png',\n",
       " '/mnt/lustre/yslan/Repo/3D/correspondence/pigan_densecorr/imgs/newmodel/z_inv_instance_lib/000221/4.png',\n",
       " '/mnt/lustre/yslan/Repo/3D/correspondence/pigan_densecorr/imgs/newmodel/z_inv_instance_lib/000221/6.png',\n",
       " '/mnt/lustre/yslan/Repo/3D/correspondence/pigan_densecorr/imgs/newmodel/z_inv_instance_lib/000221/1.png',\n",
       " '/mnt/lustre/yslan/Repo/3D/correspondence/pigan_densecorr/imgs/newmodel/z_inv_instance_lib/000221/0.png',\n",
       " '/mnt/lustre/yslan/Repo/3D/correspondence/pigan_densecorr/imgs/newmodel/z_inv_instance_lib/000221/3.png',\n",
       " '/mnt/lustre/yslan/Repo/3D/correspondence/pigan_densecorr/imgs/newmodel/z_inv_instance_lib/000221/2.png',\n",
       " '/mnt/lustre/yslan/Repo/3D/correspondence/pigan_densecorr/imgs/newmodel/z_inv_instance_lib/000221/5.png',\n",
       " '/mnt/lustre/yslan/Repo/3D/correspondence/pigan_densecorr/imgs/newmodel/z_inv_instance_lib/000040/4.png',\n",
       " '/mnt/lustre/yslan/Repo/3D/correspondence/pigan_densecorr/imgs/newmodel/z_inv_instance_lib/000040/6.png',\n",
       " '/mnt/lustre/yslan/Repo/3D/correspondence/pigan_densecorr/imgs/newmodel/z_inv_instance_lib/000040/1.png',\n",
       " '/mnt/lustre/yslan/Repo/3D/correspondence/pigan_densecorr/imgs/newmodel/z_inv_instance_lib/000040/0.png',\n",
       " '/mnt/lustre/yslan/Repo/3D/correspondence/pigan_densecorr/imgs/newmodel/z_inv_instance_lib/000040/3.png',\n",
       " '/mnt/lustre/yslan/Repo/3D/correspondence/pigan_densecorr/imgs/newmodel/z_inv_instance_lib/000040/2.png',\n",
       " '/mnt/lustre/yslan/Repo/3D/correspondence/pigan_densecorr/imgs/newmodel/z_inv_instance_lib/000040/5.png',\n",
       " '/mnt/lustre/yslan/Repo/3D/correspondence/pigan_densecorr/imgs/newmodel/z_inv_instance_lib/001247/4.png',\n",
       " '/mnt/lustre/yslan/Repo/3D/correspondence/pigan_densecorr/imgs/newmodel/z_inv_instance_lib/001247/6.png',\n",
       " '/mnt/lustre/yslan/Repo/3D/correspondence/pigan_densecorr/imgs/newmodel/z_inv_instance_lib/001247/1.png',\n",
       " '/mnt/lustre/yslan/Repo/3D/correspondence/pigan_densecorr/imgs/newmodel/z_inv_instance_lib/001247/0.png',\n",
       " '/mnt/lustre/yslan/Repo/3D/correspondence/pigan_densecorr/imgs/newmodel/z_inv_instance_lib/001247/3.png',\n",
       " '/mnt/lustre/yslan/Repo/3D/correspondence/pigan_densecorr/imgs/newmodel/z_inv_instance_lib/001247/2.png',\n",
       " '/mnt/lustre/yslan/Repo/3D/correspondence/pigan_densecorr/imgs/newmodel/z_inv_instance_lib/001247/5.png']"
      ]
     },
     "execution_count": 24,
     "metadata": {},
     "output_type": "execute_result"
    }
   ],
   "source": [
    "glob.glob(opts['testing_path'] + \"**/[0-9].png\", recursive=True)\n",
    "# opts['testing_path']"
   ]
  },
  {
   "cell_type": "code",
   "execution_count": null,
   "id": "active-manual",
   "metadata": {},
   "outputs": [],
   "source": [
    "def paste_face_back(img, face, inverse_affine):\n",
    "    h, w = img.shape[0:2]\n",
    "    face_h, face_w = face.shape[0:2]\n",
    "    inv_restored = cv2.warpAffine(face, inverse_affine, (w, h))\n",
    "    mask = np.ones((face_h, face_w, 3), dtype=np.float32)\n",
    "    inv_mask = cv2.warpAffine(mask, inverse_affine, (w, h))\n",
    "    # remove the black borders\n",
    "    \n",
    "    inv_mask_erosion = cv2.erode(inv_mask, np.ones((2, 2), np.uint8))\n",
    "    inv_restored_remove_border = inv_mask_erosion * inv_restored\n",
    "    total_face_area = np.sum(inv_mask_erosion) // 3\n",
    "    # compute the fusion edge based on the area of face\n",
    "    \n",
    "    w_edge = int(total_face_area**0.5) // 20\n",
    "    blur_size = w_edge * 2\n",
    "    \n",
    "    erosion_radius = w_edge * 2\n",
    "    \n",
    "    inv_mask_center = cv2.erode(inv_mask_erosion, np.ones((erosion_radius, erosion_radius), np.uint8))\n",
    "    \n",
    "    inv_soft_mask = cv2.GaussianBlur(inv_mask_center, (blur_size + 1, blur_size + 1), 0)\n",
    "    img = inv_soft_mask * inv_restored_remove_border + (1 - inv_soft_mask) * img\n",
    "    # float32, [0, 255]\n",
    "    return img\n",
    "\n",
    "\n"
   ]
  },
  {
   "cell_type": "code",
   "execution_count": null,
   "id": "novel-frontier",
   "metadata": {},
   "outputs": [],
   "source": [
    "def load_segmentation_part(seg_mask, seg_class_names, class_name):\n",
    "    \"\"\"load segmentation foreground mask, in the target image_size \n",
    "\n",
    "    Returns:\n",
    "        Tensor: binary mask\n",
    "    \"\"\"\n",
    "    # part segmentation crop\n",
    "    segmentation_ids = [class_name.index(seg_class_name) for seg_class_name in seg_class_names]\n",
    "    part_mask = torch.zeros_like(seg_mask)\n",
    "    for seg_id in segmentation_ids:\n",
    "        part_mask += seg_mask == seg_id \n",
    "\n",
    "    assert part_mask.max() == 1\n",
    "    return part_mask.cpu().numpy()"
   ]
  },
  {
   "cell_type": "code",
   "execution_count": null,
   "id": "different-glory",
   "metadata": {},
   "outputs": [],
   "source": [
    "instance = return_val['589']\n",
    "angle='0'\n",
    "ori_mask = instance[angle]['ori_mask'] \n",
    "blur_mask = instance[angle]['blur_mask']\n",
    "# plt.imshow(ori_mask, 11)\n",
    "\n",
    "# ksize=1\n",
    "std=0\n",
    "\n",
    "# total_face_area = ori_mask.sum()\n",
    "# w_edge = int(total_face_area**0.5) // 20\n",
    "# blur_size = w_edge * 2 + 1\n",
    "blur_size=11\n",
    "\n",
    "print(blur_size)\n",
    "\n",
    "blur = cv2.GaussianBlur(ori_mask / 255, (blur_size, blur_size), sigmaX=std)\n",
    "\n",
    "# plt.imshow(blur/255, 12)\n",
    "\n",
    "fig, axs = plt.subplots(1, 3, figsize=(10,15))\n",
    "axs[0].imshow(ori_mask)\n",
    "axs[1].imshow(blur_mask)\n",
    "axs[2].imshow(blur)"
   ]
  },
  {
   "cell_type": "code",
   "execution_count": null,
   "id": "moderate-album",
   "metadata": {},
   "outputs": [],
   "source": [
    "# tune ksize\n",
    "\n",
    "\n",
    "\n"
   ]
  },
  {
   "cell_type": "code",
   "execution_count": 37,
   "id": "pressed-philosophy",
   "metadata": {},
   "outputs": [
    {
     "data": {
      "text/plain": [
       "<matplotlib.image.AxesImage at 0x7f67d01c29d0>"
      ]
     },
     "execution_count": 37,
     "metadata": {},
     "output_type": "execute_result"
    },
    {
     "data": {
      "image/png": "[encoded data removed]",
      "text/plain": [
       "<Figure size 432x288 with 1 Axes>"
      ]
     },
     "metadata": {
      "needs_background": "light"
     },
     "output_type": "display_data"
    }
   ],
   "source": [
    "seg_sample = torch.Tensor(y_preds[0]).squeeze()\n",
    "part_seg_mask = load_segmentation_part(seg_sample, hair, class_name)\n",
    "\n",
    "plt.imshow(part_seg_mask)"
   ]
  },
  {
   "cell_type": "code",
   "execution_count": 20,
   "id": "retired-anthony",
   "metadata": {},
   "outputs": [
    {
     "data": {
      "text/plain": [
       "[]"
      ]
     },
     "execution_count": 20,
     "metadata": {},
     "output_type": "execute_result"
    }
   ],
   "source": [
    "load_segmentation_part(ori_mask, class_name=)"
   ]
  },
  {
   "cell_type": "code",
   "execution_count": 17,
   "id": "flexible-diving",
   "metadata": {},
   "outputs": [
    {
     "data": {
      "text/plain": [
       "<matplotlib.image.AxesImage at 0x7f687604f910>"
      ]
     },
     "execution_count": 17,
     "metadata": {},
     "output_type": "execute_result"
    },
    {
     "data": {
      "image/png": "[encoded data removed]",
      "text/plain": [
       "<Figure size 432x288 with 1 Axes>"
      ]
     },
     "metadata": {
      "needs_background": "light"
     },
     "output_type": "display_data"
    }
   ],
   "source": [
    "plt.imshow(cv2.GaussianBlur(ori_mask / 255, (blur_size, blur_size), sigmaX=0))"
   ]
  },
  {
   "cell_type": "code",
   "execution_count": 1,
   "id": "floppy-sampling",
   "metadata": {
    "scrolled": true
   },
   "outputs": [
    {
     "ename": "NameError",
     "evalue": "name 'fg_mask' is not defined",
     "output_type": "error",
     "traceback": [
      "\u001b[0;31m---------------------------------------------------------------------------\u001b[0m",
      "\u001b[0;31mNameError\u001b[0m                                 Traceback (most recent call last)",
      "\u001b[0;32m<ipython-input-1-c66240bfe3ae>\u001b[0m in \u001b[0;36m<module>\u001b[0;34m\u001b[0m\n\u001b[0;32m----> 1\u001b[0;31m \u001b[0mnew_mask\u001b[0m \u001b[0;34m=\u001b[0m \u001b[0mfg_mask\u001b[0m\u001b[0;34m[\u001b[0m\u001b[0;34m...\u001b[0m\u001b[0;34m]\u001b[0m\u001b[0;34m\u001b[0m\u001b[0;34m\u001b[0m\u001b[0m\n\u001b[0m\u001b[1;32m      2\u001b[0m \u001b[0;34m\u001b[0m\u001b[0m\n\u001b[1;32m      3\u001b[0m \u001b[0;31m# mask = new_mask[..., 0].astype(np.uint8)\u001b[0m\u001b[0;34m\u001b[0m\u001b[0;34m\u001b[0m\u001b[0;34m\u001b[0m\u001b[0m\n\u001b[1;32m      4\u001b[0m \u001b[0;31m# mask.max()\u001b[0m\u001b[0;34m\u001b[0m\u001b[0;34m\u001b[0m\u001b[0;34m\u001b[0m\u001b[0m\n\u001b[1;32m      5\u001b[0m \u001b[0;31m# img_mask = mask * 255\u001b[0m\u001b[0;34m\u001b[0m\u001b[0;34m\u001b[0m\u001b[0;34m\u001b[0m\u001b[0m\n",
      "\u001b[0;31mNameError\u001b[0m: name 'fg_mask' is not defined"
     ]
    }
   ],
   "source": [
    "new_mask = fg_mask[...]\n",
    "\n",
    "# mask = new_mask[..., 0].astype(np.uint8)\n",
    "# mask.max()\n",
    "# img_mask = mask * 255\n",
    "plt.imshow(fg_masks[0])"
   ]
  },
  {
   "cell_type": "code",
   "execution_count": 149,
   "id": "suffering-denver",
   "metadata": {},
   "outputs": [
    {
     "data": {
      "text/plain": [
       "(512, 512, 3)"
      ]
     },
     "execution_count": 149,
     "metadata": {},
     "output_type": "execute_result"
    }
   ],
   "source": [
    "# img = cv2.imread('/mnt/lustre/yslan/Repo/3D/correspondence/pigan_densecorr/out/deform/v0.99/size999_seed1_celeba_z_8w_crossInstance_randz/template.png')\n",
    "img = cv2.cvtColor(mask, cv2.COLOR_GRAY2BGR)\n",
    "img.shape\n",
    "# BGR ORDER"
   ]
  },
  {
   "cell_type": "code",
   "execution_count": 168,
   "id": "breathing-dating",
   "metadata": {},
   "outputs": [
    {
     "data": {
      "text/plain": [
       "<matplotlib.image.AxesImage at 0x7f943c459700>"
      ]
     },
     "execution_count": 168,
     "metadata": {},
     "output_type": "execute_result"
    },
    {
     "data": {
      "image/png": "[encoded data removed]",
      "text/plain": [
       "<Figure size 432x288 with 1 Axes>"
      ]
     },
     "metadata": {
      "needs_background": "light"
     },
     "output_type": "display_data"
    }
   ],
   "source": []
  },
  {
   "cell_type": "code",
   "execution_count": 61,
   "id": "shared-native",
   "metadata": {},
   "outputs": [
    {
     "data": {
      "text/plain": [
       "<matplotlib.image.AxesImage at 0x7f94d32a0130>"
      ]
     },
     "execution_count": 61,
     "metadata": {},
     "output_type": "execute_result"
    },
    {
     "data": {
      "image/png": "[encoded data removed]",
      "text/plain": [
       "<Figure size 432x288 with 1 Axes>"
      ]
     },
     "metadata": {
      "needs_background": "light"
     },
     "output_type": "display_data"
    }
   ],
   "source": [
    "blur_mask = (blur>0) ^ (blur==1)\n",
    "plt.imshow(blur_mask)"
   ]
  },
  {
   "cell_type": "code",
   "execution_count": 64,
   "id": "pressed-congo",
   "metadata": {},
   "outputs": [
    {
     "data": {
      "text/plain": [
       "262144"
      ]
     },
     "execution_count": 64,
     "metadata": {},
     "output_type": "execute_result"
    }
   ],
   "source": [
    "# (blur==0).sum() + (blur==1).sum()\n",
    "# 512*512"
   ]
  },
  {
   "cell_type": "code",
   "execution_count": 50,
   "id": "fallen-british",
   "metadata": {},
   "outputs": [
    {
     "data": {
      "text/plain": [
       "<matplotlib.image.AxesImage at 0x7f94d31bec70>"
      ]
     },
     "execution_count": 50,
     "metadata": {},
     "output_type": "execute_result"
    },
    {
     "data": {
      "image/png": "[encoded data removed]",
      "text/plain": [
       "<Figure size 432x288 with 1 Axes>"
      ]
     },
     "metadata": {
      "needs_background": "light"
     },
     "output_type": "display_data"
    }
   ],
   "source": [
    "# blending\n",
    "# 1. plt.imshow()\n",
    "h, w = 128, 128\n",
    "diffusion = np.zeros((h, w))\n",
    "\n",
    "for i in range(h):\n",
    "    for j in range(w):\n",
    "        diffusion[i][j] = i**2 + j**2\n",
    "        \n",
    "plt.imshow(diffusion)"
   ]
  },
  {
   "cell_type": "code",
   "execution_count": null,
   "id": "stuffed-abuse",
   "metadata": {},
   "outputs": [],
   "source": []
  },
  {
   "cell_type": "code",
   "execution_count": 27,
   "id": "finite-transportation",
   "metadata": {},
   "outputs": [
    {
     "data": {
      "text/plain": [
       "0.4954986572265625"
      ]
     },
     "execution_count": 27,
     "metadata": {},
     "output_type": "execute_result"
    }
   ],
   "source": [
    "mask.mean()"
   ]
  },
  {
   "cell_type": "code",
   "execution_count": 25,
   "id": "legal-snapshot",
   "metadata": {},
   "outputs": [
    {
     "data": {
      "text/plain": [
       "0.4953498840332031"
      ]
     },
     "execution_count": 25,
     "metadata": {},
     "output_type": "execute_result"
    }
   ],
   "source": [
    "blur.mean()"
   ]
  },
  {
   "cell_type": "code",
   "execution_count": 12,
   "id": "fiscal-updating",
   "metadata": {
    "scrolled": false
   },
   "outputs": [
    {
     "data": {
      "text/plain": [
       "<matplotlib.image.AxesImage at 0x7f66a61b5e50>"
      ]
     },
     "execution_count": 12,
     "metadata": {},
     "output_type": "execute_result"
    },
    {
     "data": {
      "image/png": "[encoded data removed]",
      "text/plain": [
       "<Figure size 432x288 with 1 Axes>"
      ]
     },
     "metadata": {
      "needs_background": "light"
     },
     "output_type": "display_data"
    }
   ],
   "source": [
    "import matplotlib.pyplot as plt\n",
    "plt.imshow(colorize_preds[0])"
   ]
  },
  {
   "cell_type": "code",
   "execution_count": 27,
   "id": "passing-reason",
   "metadata": {},
   "outputs": [],
   "source": [
    "# plt.imsave('pred_seg.png', colorize_pred)\n",
    "plt.imsave(save_base_dir / f'{img_name}', colorize_pred)\n",
    "np.save(save_base_dir / f'{img_name}.npy', y_pred)"
   ]
  },
  {
   "cell_type": "code",
   "execution_count": 57,
   "id": "impressive-crest",
   "metadata": {},
   "outputs": [],
   "source": [
    "testing_path='/mnt/lustre/yslan/Repo/3D/correspondence/pigan_densecorr/imgs/newmodel/instance_lib/'"
   ]
  },
  {
   "cell_type": "code",
   "execution_count": 119,
   "id": "strategic-instrumentation",
   "metadata": {},
   "outputs": [],
   "source": [
    "test = glob.glob(testing_path + \"**/*.png\", recursive=True)"
   ]
  },
  {
   "cell_type": "code",
   "execution_count": 134,
   "id": "opponent-release",
   "metadata": {},
   "outputs": [
    {
     "data": {
      "text/plain": [
       "'img_seed_1_1.0707963267948966.png'"
      ]
     },
     "execution_count": 134,
     "metadata": {},
     "output_type": "execute_result"
    }
   ],
   "source": [
    "Path(test[0]).name"
   ]
  },
  {
   "cell_type": "code",
   "execution_count": null,
   "id": "cheap-seeking",
   "metadata": {},
   "outputs": [],
   "source": [
    "# https://docs.python.org/3/library/pathlib.html#module-pathlib\n",
    ".name\n",
    ".parents\n",
    ".root"
   ]
  },
  {
   "cell_type": "code",
   "execution_count": 165,
   "id": "european-treat",
   "metadata": {},
   "outputs": [
    {
     "name": "stderr",
     "output_type": "stream",
     "text": [
      "<>:1: SyntaxWarning: list indices must be integers or slices, not tuple; perhaps you missed a comma?\n",
      "<>:1: SyntaxWarning: list indices must be integers or slices, not tuple; perhaps you missed a comma?\n",
      "<ipython-input-165-3c4413ce61a5>:1: SyntaxWarning: list indices must be integers or slices, not tuple; perhaps you missed a comma?\n",
      "  [1,2,3][1,2]\n"
     ]
    },
    {
     "ename": "TypeError",
     "evalue": "list indices must be integers or slices, not tuple",
     "output_type": "error",
     "traceback": [
      "\u001b[0;31m---------------------------------------------------------------------------\u001b[0m",
      "\u001b[0;31mTypeError\u001b[0m                                 Traceback (most recent call last)",
      "\u001b[0;32m<ipython-input-165-3c4413ce61a5>\u001b[0m in \u001b[0;36m<module>\u001b[0;34m\u001b[0m\n\u001b[0;32m----> 1\u001b[0;31m \u001b[0;34m[\u001b[0m\u001b[0;36m1\u001b[0m\u001b[0;34m,\u001b[0m\u001b[0;36m2\u001b[0m\u001b[0;34m,\u001b[0m\u001b[0;36m3\u001b[0m\u001b[0;34m]\u001b[0m\u001b[0;34m[\u001b[0m\u001b[0;36m1\u001b[0m\u001b[0;34m,\u001b[0m\u001b[0;36m2\u001b[0m\u001b[0;34m]\u001b[0m\u001b[0;34m\u001b[0m\u001b[0;34m\u001b[0m\u001b[0m\n\u001b[0m",
      "\u001b[0;31mTypeError\u001b[0m: list indices must be integers or slices, not tuple"
     ]
    }
   ],
   "source": []
  },
  {
   "cell_type": "code",
   "execution_count": 208,
   "id": "exclusive-remains",
   "metadata": {},
   "outputs": [
    {
     "data": {
      "text/plain": [
       "'instance_lib'"
      ]
     },
     "execution_count": 208,
     "metadata": {},
     "output_type": "execute_result"
    }
   ],
   "source": [
    "Path('/mnt/lustre/yslan/Repo/3D/correspondence/pigan_densecorr/imgs/newmodel/instance_lib/212/4.png').parents[1].name"
   ]
  },
  {
   "cell_type": "code",
   "execution_count": null,
   "id": "piano-international",
   "metadata": {},
   "outputs": [],
   "source": [
    "# loss "
   ]
  }
 ],
 "metadata": {
  "kernelspec": {
   "display_name": "Python 3 (ipykernel)",
   "language": "python",
   "name": "python3"
  },
  "language_info": {
   "codemirror_mode": {
    "name": "ipython",
    "version": 3
   },
   "file_extension": ".py",
   "mimetype": "text/x-python",
   "name": "python",
   "nbconvert_exporter": "python",
   "pygments_lexer": "ipython3",
   "version": "3.8.13"
  }
 },
 "nbformat": 4,
 "nbformat_minor": 5
}
